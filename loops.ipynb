{
 "cells": [
  {
   "cell_type": "code",
   "execution_count": 1,
   "metadata": {},
   "outputs": [
    {
     "name": "stdout",
     "output_type": "stream",
     "text": [
      "World\n",
      "-----\n"
     ]
    }
   ],
   "source": [
    "name = 'World'\n",
    "line = ''\n",
    "\n",
    "print(name)\n",
    "for char in name: \n",
    "    line += '-'\n",
    "print(line)"
   ]
  },
  {
   "cell_type": "code",
   "execution_count": 3,
   "metadata": {},
   "outputs": [
    {
     "name": "stdout",
     "output_type": "stream",
     "text": [
      "+World+\n",
      "W     W\n",
      "o     o\n",
      "r     r\n",
      "l     l\n",
      "d     d\n",
      "+World+-\n"
     ]
    }
   ],
   "source": [
    "#World in a Box\n",
    "name = 'World'\n",
    "line = ''\n",
    "\n",
    "\n",
    "print('+' + name + '+')\n",
    "for char in name:\n",
    "    line = line + ' ' \n",
    "for char in name: \n",
    "    print(char + line + char)\n",
    "print('+' + name + '+')"
   ]
  }
 ],
 "metadata": {
  "kernelspec": {
   "display_name": "base",
   "language": "python",
   "name": "python3"
  },
  "language_info": {
   "codemirror_mode": {
    "name": "ipython",
    "version": 3
   },
   "file_extension": ".py",
   "mimetype": "text/x-python",
   "name": "python",
   "nbconvert_exporter": "python",
   "pygments_lexer": "ipython3",
   "version": "3.10.9"
  },
  "orig_nbformat": 4,
  "vscode": {
   "interpreter": {
    "hash": "a0ef1235a3640a669d0d83f538eca2bbc30ffb6f066c1502817440d33712b463"
   }
  }
 },
 "nbformat": 4,
 "nbformat_minor": 2
}
